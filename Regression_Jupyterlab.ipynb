{
 "cells": [
  {
   "cell_type": "code",
   "execution_count": 3,
   "metadata": {},
   "outputs": [],
   "source": [
    "import pandas as pd\n",
    "from sklearn.model_selection import train_test_split\n",
    "import numpy as np\n",
    "from sklearn import linear_model\n",
    "from sklearn.metrics import mean_absolute_error\n",
    "import matplotlib.pyplot as plt\n",
    "import random\n",
    "from sklearn.model_selection import KFold\n",
    "import warnings\n",
    "import xgboost as xgb\n",
    "from sklearn.decomposition import PCA\n",
    "from sklearn import preprocessing\n",
    "import math\n",
    "import os"
   ]
  },
  {
   "cell_type": "code",
   "execution_count": 2,
   "metadata": {},
   "outputs": [],
   "source": [
    "#Compute the Zero Cross\n",
    "def ZeroCrossingRate(alist):\n",
    "    count=0\n",
    "    f_value = alist[0]\n",
    "    for b_index in range(1,len(alist)):\n",
    "        b_value=alist[b_index]\n",
    "        if (f_value*b_value < 0):\n",
    "            count += 1\n",
    "        f_value = b_value\n",
    "    \n",
    "    return count/(len(alist)-1)    "
   ]
  },
  {
   "cell_type": "code",
   "execution_count": 10,
   "metadata": {},
   "outputs": [],
   "source": [
    "filelist = os.listdir('F:/ingv/train/')\n",
    "len(filelist)"
   ]
  },
  {
   "cell_type": "code",
   "execution_count": 7,
   "metadata": {},
   "outputs": [],
   "source": [
    "#All features\n",
    "featureName_list=['seg_id',\n",
    "                'sensor_1_avg','sensor_1_sd','sensor_1_max','sensor_1_min','sensor_1_q25','sensor_1_q50',\n",
    "                'sensor_1_q75','sensor_1_zc','sensor_1_85ro','sensor_1_ku','sensor_1_sk',\n",
    "                'sensor_2_avg','sensor_2_sd','sensor_2_max','sensor_2_min','sensor_2_q25','sensor_2_q50',\n",
    "                'sensor_2_q75','sensor_2_zc','sensor_2_85ro','sensor_2_ku','sensor_2_sk',\n",
    "                'sensor_3_avg','sensor_3_sd','sensor_3_max','sensor_3_min','sensor_3_q25','sensor_3_q50',\n",
    "                'sensor_3_q75','sensor_3_zc','sensor_3_85ro','sensor_3_ku','sensor_3_sk',\n",
    "                'sensor_4_avg','sensor_4_sd','sensor_4_max','sensor_4_min','sensor_4_q25','sensor_4_q50',\n",
    "                'sensor_4_q75','sensor_4_zc','sensor_4_85ro','sensor_4_ku','sensor_4_sk',\n",
    "                'sensor_5_avg','sensor_5_sd','sensor_5_max','sensor_5_min','sensor_5_q25','sensor_5_q50',\n",
    "                'sensor_5_q75','sensor_5_zc','sensor_5_85ro','sensor_5_ku','sensor_5_sk',\n",
    "                'sensor_6_avg','sensor_6_sd','sensor_6_max','sensor_6_min','sensor_6_q25','sensor_6_q50',\n",
    "                'sensor_6_q75','sensor_6_zc','sensor_6_85ro','sensor_6_ku','sensor_6_sk',\n",
    "                'sensor_7_avg','sensor_7_sd','sensor_7_max','sensor_7_min','sensor_7_q25','sensor_7_q50',\n",
    "                'sensor_7_q75','sensor_7_zc','sensor_7_85ro','sensor_7_ku','sensor_7_sk',\n",
    "                'sensor_8_avg','sensor_8_sd','sensor_8_max','sensor_8_min','sensor_8_q25','sensor_8_q50',\n",
    "                'sensor_8_q75','sensor_8_zc','sensor_8_85ro','sensor_8_ku','sensor_8_sk',\n",
    "                'sensor_9_avg','sensor_9_sd','sensor_9_max','sensor_9_min','sensor_9_q25','sensor_9_q50',\n",
    "                'sensor_9_q75','sensor_9_zc','sensor_9_85ro','sensor_9_ku','sensor_9_sk',\n",
    "                'sensor_10_avg','sensor_10_sd','sensor_10_max','sensor_10_min','sensor_10_q25','sensor_10_q50',\n",
    "                'sensor_10_q75','sensor_10_zc','sensor_10_85ro','sensor_10_ku','sensor_10_sk']"
   ]
  },
  {
   "cell_type": "code",
   "execution_count": 8,
   "metadata": {},
   "outputs": [
    {
     "name": "stdout",
     "output_type": "stream",
     "text": [
      "100\n",
      "200\n",
      "300\n",
      "400\n",
      "500\n",
      "600\n",
      "700\n",
      "800\n",
      "900\n",
      "1000\n",
      "1100\n",
      "1200\n",
      "1300\n",
      "1400\n",
      "1500\n"
     ]
    }
   ],
   "source": [
    "#features extraction\n",
    "result_df=pd.DataFrame(columns=featureName_list)\n",
    "i = 0\n",
    "\n",
    "path = 'F:/ingv/ingv_mid_dataset.csv'\n",
    "if os.path.exists(path):\n",
    "    os.remove(path)  \n",
    "\n",
    "midf=open(path,'a')\n",
    "featurerow=''\n",
    "for feature in result_df.columns:\n",
    "    featurerow=featurerow+feature+','\n",
    "\n",
    "featurerow=featurerow[:-1]+'\\n'\n",
    "midf.write(featurerow)\n",
    "\n",
    "for filename in filelist:\n",
    "    one_row_df=pd.DataFrame(columns=featureName_list,index=[i])\n",
    "    one_row_df.iloc[0]=0\n",
    "    train_df = pd.read_csv('F:/ingv/train/'+filename)\n",
    "    one_row_df.loc[i,'seg_id']=filename.split('.')[0]\n",
    "    \n",
    "    for sensorindex in range(1,11):\n",
    "        \n",
    "        avg=train_df['sensor_'+str(sensorindex)].mean()\n",
    "        if not math.isnan(avg):\n",
    "            one_row_df.loc[i,'sensor_'+str(sensorindex)+'_avg']=avg\n",
    "            \n",
    "        sd=train_df['sensor_'+str(sensorindex)].std()\n",
    "        if not math.isnan(sd):\n",
    "            one_row_df.loc[i,'sensor_'+str(sensorindex)+'_sd']=sd\n",
    "            \n",
    "        smax=train_df['sensor_'+str(sensorindex)].max()\n",
    "        if not math.isnan(smax):\n",
    "            one_row_df.loc[i,'sensor_'+str(sensorindex)+'_max']=smax\n",
    "            \n",
    "        smin=train_df['sensor_'+str(sensorindex)].min()\n",
    "        if not math.isnan(smin):\n",
    "            one_row_df.loc[i,'sensor_'+str(sensorindex)+'_min']=smin\n",
    "            \n",
    "        q25=train_df['sensor_'+str(sensorindex)].quantile(0.25)\n",
    "        if not math.isnan(q25):\n",
    "            one_row_df.loc[i,'sensor_'+str(sensorindex)+'_q25']=q25\n",
    "            \n",
    "        q50=train_df['sensor_'+str(sensorindex)].quantile(0.5)\n",
    "        if not math.isnan(q50):\n",
    "            one_row_df.loc[i,'sensor_'+str(sensorindex)+'_q50']=q50\n",
    "            \n",
    "        q75=train_df['sensor_'+str(sensorindex)].quantile(0.75)\n",
    "        if not math.isnan(q75):\n",
    "            one_row_df.loc[i,'sensor_'+str(sensorindex)+'_q75']=q75\n",
    "            \n",
    "        zc=ZeroCrossingRate(train_df['sensor_'+str(sensorindex)])\n",
    "        if not math.isnan(zc):\n",
    "            one_row_df.loc[i,'sensor_'+str(sensorindex)+'_zc']=zc  \n",
    "            \n",
    "#         ro=train_df['sensor_'+str(sensorindex)].mean()\n",
    "#         if not math.isnan(avg):\n",
    "#             one_row_df.loc[i,'sensor_'+str(sensorindex)+'_avg']=avg\n",
    "            \n",
    "        ku=train_df['sensor_'+str(sensorindex)].kurt()\n",
    "        if not math.isnan(ku):\n",
    "            one_row_df.loc[i,'sensor_'+str(sensorindex)+'_ku']=ku\n",
    "            \n",
    "        sk=train_df['sensor_'+str(sensorindex)].skew()\n",
    "        if not math.isnan(sk):\n",
    "            one_row_df.loc[i,'sensor_'+str(sensorindex)+'_sk']=sk\n",
    "                \n",
    "    \n",
    "    datarow=''\n",
    "    for data in one_row_df.iloc[0]:\n",
    "        datarow=datarow+str(data)+','\n",
    "\n",
    "    datarow=datarow[:-1]+'\\n'\n",
    "    midf.write(datarow)\n",
    "    \n",
    "    result_df=result_df.append(one_row_df)\n",
    "    \n",
    "    i += 1\n",
    "    if(i%100 == 0):\n",
    "        print(i)\n",
    "\n",
    "midf.close()"
   ]
  },
  {
   "cell_type": "code",
   "execution_count": 33,
   "metadata": {},
   "outputs": [],
   "source": [
    "label_df=pd.read_csv('F:/ingv/train.csv')\n",
    "\n",
    "for segmentid in result_df['seg_id']:\n",
    "    result_id = result_df[result_df['seg_id'] == segmentid].index\n",
    "    label_id =  label_df[label_df['segment_id'] == int(segmentid)].index\n",
    "    result_df.loc[result_id,'label'] = float(label_df.loc[label_id,'time_to_eruption'])"
   ]
  },
  {
   "cell_type": "code",
   "execution_count": 8,
   "metadata": {},
   "outputs": [],
   "source": [
    "df = result_df\n",
    "\n",
    "del df['sensor_1_85ro'] \n",
    "del df['sensor_2_85ro'] \n",
    "del df['sensor_3_85ro'] \n",
    "del df['sensor_4_85ro'] \n",
    "del df['sensor_5_85ro'] \n",
    "del df['sensor_6_85ro'] \n",
    "del df['sensor_7_85ro'] \n",
    "del df['sensor_8_85ro'] \n",
    "del df['sensor_9_85ro'] \n",
    "del df['sensor_10_85ro']"
   ]
  },
  {
   "cell_type": "code",
   "execution_count": 5,
   "metadata": {},
   "outputs": [
    {
     "data": {
      "text/html": [
       "<div>\n",
       "<style scoped>\n",
       "    .dataframe tbody tr th:only-of-type {\n",
       "        vertical-align: middle;\n",
       "    }\n",
       "\n",
       "    .dataframe tbody tr th {\n",
       "        vertical-align: top;\n",
       "    }\n",
       "\n",
       "    .dataframe thead th {\n",
       "        text-align: right;\n",
       "    }\n",
       "</style>\n",
       "<table border=\"1\" class=\"dataframe\">\n",
       "  <thead>\n",
       "    <tr style=\"text-align: right;\">\n",
       "      <th></th>\n",
       "      <th>seg_id</th>\n",
       "      <th>sensor_1_avg</th>\n",
       "      <th>sensor_1_sd</th>\n",
       "      <th>sensor_1_max</th>\n",
       "      <th>sensor_1_min</th>\n",
       "      <th>sensor_1_q25</th>\n",
       "      <th>sensor_1_q50</th>\n",
       "      <th>sensor_1_q75</th>\n",
       "      <th>sensor_1_zc</th>\n",
       "      <th>sensor_1_ku</th>\n",
       "      <th>...</th>\n",
       "      <th>sensor_10_sd</th>\n",
       "      <th>sensor_10_max</th>\n",
       "      <th>sensor_10_min</th>\n",
       "      <th>sensor_10_q25</th>\n",
       "      <th>sensor_10_q50</th>\n",
       "      <th>sensor_10_q75</th>\n",
       "      <th>sensor_10_zc</th>\n",
       "      <th>sensor_10_ku</th>\n",
       "      <th>sensor_10_sk</th>\n",
       "      <th>label</th>\n",
       "    </tr>\n",
       "  </thead>\n",
       "  <tbody>\n",
       "    <tr>\n",
       "      <th>0</th>\n",
       "      <td>1000015382</td>\n",
       "      <td>0.382244</td>\n",
       "      <td>111.553322</td>\n",
       "      <td>822</td>\n",
       "      <td>-920</td>\n",
       "      <td>-66</td>\n",
       "      <td>0</td>\n",
       "      <td>67</td>\n",
       "      <td>0.099150</td>\n",
       "      <td>2.873691</td>\n",
       "      <td>...</td>\n",
       "      <td>249.024286</td>\n",
       "      <td>3179</td>\n",
       "      <td>-2961</td>\n",
       "      <td>-117</td>\n",
       "      <td>0</td>\n",
       "      <td>119.0</td>\n",
       "      <td>0.057417</td>\n",
       "      <td>14.978789</td>\n",
       "      <td>0.058227</td>\n",
       "      <td>16258654.0</td>\n",
       "    </tr>\n",
       "    <tr>\n",
       "      <th>1</th>\n",
       "      <td>1000554676</td>\n",
       "      <td>-3.828120</td>\n",
       "      <td>532.160723</td>\n",
       "      <td>2293</td>\n",
       "      <td>-2039</td>\n",
       "      <td>-356</td>\n",
       "      <td>0</td>\n",
       "      <td>348</td>\n",
       "      <td>0.043500</td>\n",
       "      <td>0.154876</td>\n",
       "      <td>...</td>\n",
       "      <td>1054.655004</td>\n",
       "      <td>4442</td>\n",
       "      <td>-4329</td>\n",
       "      <td>-710</td>\n",
       "      <td>0</td>\n",
       "      <td>691.0</td>\n",
       "      <td>0.048900</td>\n",
       "      <td>0.160791</td>\n",
       "      <td>0.004739</td>\n",
       "      <td>6347792.0</td>\n",
       "    </tr>\n",
       "    <tr>\n",
       "      <th>2</th>\n",
       "      <td>1000745424</td>\n",
       "      <td>8.291928</td>\n",
       "      <td>608.823318</td>\n",
       "      <td>2524</td>\n",
       "      <td>-2193</td>\n",
       "      <td>-400</td>\n",
       "      <td>0</td>\n",
       "      <td>414</td>\n",
       "      <td>0.040233</td>\n",
       "      <td>0.034508</td>\n",
       "      <td>...</td>\n",
       "      <td>1228.949335</td>\n",
       "      <td>5230</td>\n",
       "      <td>-5040</td>\n",
       "      <td>-801</td>\n",
       "      <td>0</td>\n",
       "      <td>813.0</td>\n",
       "      <td>0.048017</td>\n",
       "      <td>0.193508</td>\n",
       "      <td>-0.025480</td>\n",
       "      <td>5120693.0</td>\n",
       "    </tr>\n",
       "    <tr>\n",
       "      <th>3</th>\n",
       "      <td>1001461087</td>\n",
       "      <td>2.071582</td>\n",
       "      <td>414.293195</td>\n",
       "      <td>4085</td>\n",
       "      <td>-3112</td>\n",
       "      <td>-246</td>\n",
       "      <td>0</td>\n",
       "      <td>252</td>\n",
       "      <td>0.218450</td>\n",
       "      <td>3.927669</td>\n",
       "      <td>...</td>\n",
       "      <td>736.213172</td>\n",
       "      <td>5788</td>\n",
       "      <td>-4634</td>\n",
       "      <td>-425</td>\n",
       "      <td>0</td>\n",
       "      <td>432.0</td>\n",
       "      <td>0.047367</td>\n",
       "      <td>2.732420</td>\n",
       "      <td>-0.051503</td>\n",
       "      <td>10393161.0</td>\n",
       "    </tr>\n",
       "    <tr>\n",
       "      <th>4</th>\n",
       "      <td>1001732002</td>\n",
       "      <td>0.904102</td>\n",
       "      <td>289.861921</td>\n",
       "      <td>1692</td>\n",
       "      <td>-1723</td>\n",
       "      <td>-187</td>\n",
       "      <td>0</td>\n",
       "      <td>184</td>\n",
       "      <td>0.044000</td>\n",
       "      <td>0.824943</td>\n",
       "      <td>...</td>\n",
       "      <td>907.733048</td>\n",
       "      <td>4574</td>\n",
       "      <td>-3909</td>\n",
       "      <td>-544</td>\n",
       "      <td>0</td>\n",
       "      <td>545.0</td>\n",
       "      <td>0.046100</td>\n",
       "      <td>1.135692</td>\n",
       "      <td>0.375558</td>\n",
       "      <td>20549733.0</td>\n",
       "    </tr>\n",
       "    <tr>\n",
       "      <th>...</th>\n",
       "      <td>...</td>\n",
       "      <td>...</td>\n",
       "      <td>...</td>\n",
       "      <td>...</td>\n",
       "      <td>...</td>\n",
       "      <td>...</td>\n",
       "      <td>...</td>\n",
       "      <td>...</td>\n",
       "      <td>...</td>\n",
       "      <td>...</td>\n",
       "      <td>...</td>\n",
       "      <td>...</td>\n",
       "      <td>...</td>\n",
       "      <td>...</td>\n",
       "      <td>...</td>\n",
       "      <td>...</td>\n",
       "      <td>...</td>\n",
       "      <td>...</td>\n",
       "      <td>...</td>\n",
       "      <td>...</td>\n",
       "      <td>...</td>\n",
       "    </tr>\n",
       "    <tr>\n",
       "      <th>4426</th>\n",
       "      <td>998393594</td>\n",
       "      <td>-2.065582</td>\n",
       "      <td>223.901241</td>\n",
       "      <td>1865</td>\n",
       "      <td>-1533</td>\n",
       "      <td>-131</td>\n",
       "      <td>0</td>\n",
       "      <td>128</td>\n",
       "      <td>0.049317</td>\n",
       "      <td>2.828362</td>\n",
       "      <td>...</td>\n",
       "      <td>489.545427</td>\n",
       "      <td>2911</td>\n",
       "      <td>-4912</td>\n",
       "      <td>-288</td>\n",
       "      <td>0</td>\n",
       "      <td>301.0</td>\n",
       "      <td>0.057400</td>\n",
       "      <td>2.799295</td>\n",
       "      <td>-0.145148</td>\n",
       "      <td>23064624.0</td>\n",
       "    </tr>\n",
       "    <tr>\n",
       "      <th>4427</th>\n",
       "      <td>998625201</td>\n",
       "      <td>0.822920</td>\n",
       "      <td>441.541874</td>\n",
       "      <td>3727</td>\n",
       "      <td>-4582</td>\n",
       "      <td>-279</td>\n",
       "      <td>0</td>\n",
       "      <td>275</td>\n",
       "      <td>0.160517</td>\n",
       "      <td>1.902459</td>\n",
       "      <td>...</td>\n",
       "      <td>709.742718</td>\n",
       "      <td>2863</td>\n",
       "      <td>-3011</td>\n",
       "      <td>-472</td>\n",
       "      <td>0</td>\n",
       "      <td>479.0</td>\n",
       "      <td>0.042500</td>\n",
       "      <td>0.141066</td>\n",
       "      <td>-0.007711</td>\n",
       "      <td>46296746.0</td>\n",
       "    </tr>\n",
       "    <tr>\n",
       "      <th>4428</th>\n",
       "      <td>998818197</td>\n",
       "      <td>2.583740</td>\n",
       "      <td>441.391224</td>\n",
       "      <td>2373</td>\n",
       "      <td>-2606</td>\n",
       "      <td>-282</td>\n",
       "      <td>0</td>\n",
       "      <td>292</td>\n",
       "      <td>0.027767</td>\n",
       "      <td>0.696296</td>\n",
       "      <td>...</td>\n",
       "      <td>820.402688</td>\n",
       "      <td>4211</td>\n",
       "      <td>-5667</td>\n",
       "      <td>-526</td>\n",
       "      <td>0</td>\n",
       "      <td>529.0</td>\n",
       "      <td>0.042167</td>\n",
       "      <td>0.944920</td>\n",
       "      <td>-0.015991</td>\n",
       "      <td>24733042.0</td>\n",
       "    </tr>\n",
       "    <tr>\n",
       "      <th>4429</th>\n",
       "      <td>998818893</td>\n",
       "      <td>-1.414143</td>\n",
       "      <td>394.273260</td>\n",
       "      <td>1591</td>\n",
       "      <td>-1664</td>\n",
       "      <td>-264</td>\n",
       "      <td>0</td>\n",
       "      <td>258</td>\n",
       "      <td>0.027267</td>\n",
       "      <td>0.368570</td>\n",
       "      <td>...</td>\n",
       "      <td>723.535770</td>\n",
       "      <td>3733</td>\n",
       "      <td>-4456</td>\n",
       "      <td>-463</td>\n",
       "      <td>0</td>\n",
       "      <td>458.0</td>\n",
       "      <td>0.044233</td>\n",
       "      <td>0.898496</td>\n",
       "      <td>-0.017216</td>\n",
       "      <td>40656101.0</td>\n",
       "    </tr>\n",
       "    <tr>\n",
       "      <th>4430</th>\n",
       "      <td>999761287</td>\n",
       "      <td>-1.900635</td>\n",
       "      <td>547.584091</td>\n",
       "      <td>2378</td>\n",
       "      <td>-2053</td>\n",
       "      <td>-359</td>\n",
       "      <td>0</td>\n",
       "      <td>353</td>\n",
       "      <td>0.044433</td>\n",
       "      <td>0.269322</td>\n",
       "      <td>...</td>\n",
       "      <td>1121.011617</td>\n",
       "      <td>6310</td>\n",
       "      <td>-5436</td>\n",
       "      <td>-729</td>\n",
       "      <td>0</td>\n",
       "      <td>724.0</td>\n",
       "      <td>0.050067</td>\n",
       "      <td>0.472400</td>\n",
       "      <td>0.009184</td>\n",
       "      <td>7511308.0</td>\n",
       "    </tr>\n",
       "  </tbody>\n",
       "</table>\n",
       "<p>4431 rows × 102 columns</p>\n",
       "</div>"
      ],
      "text/plain": [
       "          seg_id  sensor_1_avg  sensor_1_sd  sensor_1_max  sensor_1_min  \\\n",
       "0     1000015382      0.382244   111.553322           822          -920   \n",
       "1     1000554676     -3.828120   532.160723          2293         -2039   \n",
       "2     1000745424      8.291928   608.823318          2524         -2193   \n",
       "3     1001461087      2.071582   414.293195          4085         -3112   \n",
       "4     1001732002      0.904102   289.861921          1692         -1723   \n",
       "...          ...           ...          ...           ...           ...   \n",
       "4426   998393594     -2.065582   223.901241          1865         -1533   \n",
       "4427   998625201      0.822920   441.541874          3727         -4582   \n",
       "4428   998818197      2.583740   441.391224          2373         -2606   \n",
       "4429   998818893     -1.414143   394.273260          1591         -1664   \n",
       "4430   999761287     -1.900635   547.584091          2378         -2053   \n",
       "\n",
       "      sensor_1_q25  sensor_1_q50  sensor_1_q75  sensor_1_zc  sensor_1_ku  ...  \\\n",
       "0              -66             0            67     0.099150     2.873691  ...   \n",
       "1             -356             0           348     0.043500     0.154876  ...   \n",
       "2             -400             0           414     0.040233     0.034508  ...   \n",
       "3             -246             0           252     0.218450     3.927669  ...   \n",
       "4             -187             0           184     0.044000     0.824943  ...   \n",
       "...            ...           ...           ...          ...          ...  ...   \n",
       "4426          -131             0           128     0.049317     2.828362  ...   \n",
       "4427          -279             0           275     0.160517     1.902459  ...   \n",
       "4428          -282             0           292     0.027767     0.696296  ...   \n",
       "4429          -264             0           258     0.027267     0.368570  ...   \n",
       "4430          -359             0           353     0.044433     0.269322  ...   \n",
       "\n",
       "      sensor_10_sd  sensor_10_max  sensor_10_min  sensor_10_q25  \\\n",
       "0       249.024286           3179          -2961           -117   \n",
       "1      1054.655004           4442          -4329           -710   \n",
       "2      1228.949335           5230          -5040           -801   \n",
       "3       736.213172           5788          -4634           -425   \n",
       "4       907.733048           4574          -3909           -544   \n",
       "...            ...            ...            ...            ...   \n",
       "4426    489.545427           2911          -4912           -288   \n",
       "4427    709.742718           2863          -3011           -472   \n",
       "4428    820.402688           4211          -5667           -526   \n",
       "4429    723.535770           3733          -4456           -463   \n",
       "4430   1121.011617           6310          -5436           -729   \n",
       "\n",
       "      sensor_10_q50  sensor_10_q75  sensor_10_zc  sensor_10_ku  sensor_10_sk  \\\n",
       "0                 0          119.0      0.057417     14.978789      0.058227   \n",
       "1                 0          691.0      0.048900      0.160791      0.004739   \n",
       "2                 0          813.0      0.048017      0.193508     -0.025480   \n",
       "3                 0          432.0      0.047367      2.732420     -0.051503   \n",
       "4                 0          545.0      0.046100      1.135692      0.375558   \n",
       "...             ...            ...           ...           ...           ...   \n",
       "4426              0          301.0      0.057400      2.799295     -0.145148   \n",
       "4427              0          479.0      0.042500      0.141066     -0.007711   \n",
       "4428              0          529.0      0.042167      0.944920     -0.015991   \n",
       "4429              0          458.0      0.044233      0.898496     -0.017216   \n",
       "4430              0          724.0      0.050067      0.472400      0.009184   \n",
       "\n",
       "           label  \n",
       "0     16258654.0  \n",
       "1      6347792.0  \n",
       "2      5120693.0  \n",
       "3     10393161.0  \n",
       "4     20549733.0  \n",
       "...          ...  \n",
       "4426  23064624.0  \n",
       "4427  46296746.0  \n",
       "4428  24733042.0  \n",
       "4429  40656101.0  \n",
       "4430   7511308.0  \n",
       "\n",
       "[4431 rows x 102 columns]"
      ]
     },
     "execution_count": 5,
     "metadata": {},
     "output_type": "execute_result"
    }
   ],
   "source": [
    "df"
   ]
  },
  {
   "cell_type": "code",
   "execution_count": 4,
   "metadata": {},
   "outputs": [],
   "source": [
    "#split the data set\n",
    "data=df.iloc[:,1:-1]\n",
    "label=df.iloc[:,-1]\n",
    "\n",
    "train_X,test_X,train_y,test_y = train_test_split(data,label,test_size=0.3,random_state=5)"
   ]
  },
  {
   "cell_type": "code",
   "execution_count": 5,
   "metadata": {},
   "outputs": [],
   "source": [
    "# linear regression\n",
    "model1 = linear_model.LinearRegression()\n",
    "model1.fit(train_X, train_y)\n",
    "\n",
    "predict1 = model1.predict(test_X)"
   ]
  },
  {
   "cell_type": "code",
   "execution_count": 6,
   "metadata": {},
   "outputs": [
    {
     "data": {
      "text/plain": [
       "array([19085910.2692093 , 30200203.81701856,  9809338.18894505, ...,\n",
       "       36526553.35419327, 23240781.96975587, 23142951.52188974])"
      ]
     },
     "execution_count": 6,
     "metadata": {},
     "output_type": "execute_result"
    }
   ],
   "source": [
    "predict1"
   ]
  },
  {
   "cell_type": "code",
   "execution_count": 7,
   "metadata": {},
   "outputs": [
    {
     "data": {
      "image/png": "[encoded data removed]",
      "text/plain": [
       "<Figure size 1440x720 with 1 Axes>"
      ]
     },
     "metadata": {
      "needs_background": "light"
     },
     "output_type": "display_data"
    }
   ],
   "source": [
    "plt.figure(figsize=(20,10))\n",
    "plt.plot(range(400,500),test_y[400:500], label='ture label')\n",
    "plt.plot(range(400,500),predict1[400:500], label='predict label')\n",
    "font1 = {'family' : 'Times New Roman',\n",
    "         'weight' : 'normal',\n",
    "         'size'   : 19}\n",
    "plt.legend(prop=font1)\n",
    "plt.tick_params(labelsize=15)\n",
    "plt.xlabel('segment id',font1)\n",
    "plt.ylabel('time toeruption',font1)\n",
    "plt.savefig('F:/ingv/f1.jpg',dpi = 100)"
   ]
  },
  {
   "cell_type": "code",
   "execution_count": 8,
   "metadata": {},
   "outputs": [
    {
     "data": {
      "text/plain": [
       "10228705.757871263"
      ]
     },
     "execution_count": 8,
     "metadata": {},
     "output_type": "execute_result"
    }
   ],
   "source": [
    "mean_absolute_error(test_y,predict1)"
   ]
  },
  {
   "cell_type": "code",
   "execution_count": 9,
   "metadata": {},
   "outputs": [],
   "source": [
    "df.drop([random.randint(0,len(df)-1)],axis=0,inplace=True)"
   ]
  },
  {
   "cell_type": "code",
   "execution_count": 35,
   "metadata": {},
   "outputs": [],
   "source": [
    "# linear regression with cross validation\n",
    "mae_list=[]\n",
    "kf = KFold(n_splits=10)\n",
    "\n",
    "for train_index, test_index in kf.split(df):\n",
    "    train_X = df.iloc[train_index, 1:-1]\n",
    "    test_X = df.iloc[test_index, 1:-1]\n",
    "    train_y = df.iloc[train_index, -1]\n",
    "    test_y = df.iloc[test_index, -1]\n",
    "    \n",
    "    model2 = linear_model.LinearRegression()\n",
    "    model2.fit(train_X, train_y)\n",
    "    predict2 = model2.predict(test_X)\n",
    "    mae_list.append(mean_absolute_error(test_y,predict2))"
   ]
  },
  {
   "cell_type": "code",
   "execution_count": 36,
   "metadata": {},
   "outputs": [
    {
     "data": {
      "text/plain": [
       "10112454.989007698"
      ]
     },
     "execution_count": 36,
     "metadata": {},
     "output_type": "execute_result"
    }
   ],
   "source": [
    "np.mean(mae_list)"
   ]
  },
  {
   "cell_type": "code",
   "execution_count": 96,
   "metadata": {},
   "outputs": [],
   "source": [
    "# Ridge regression\n",
    "mean_mae_list = []\n",
    "for a_para in range(1,11):\n",
    "    mae_list=[]\n",
    "    kf = KFold(n_splits=10)\n",
    "\n",
    "    for train_index, test_index in kf.split(df):\n",
    "        train_X = df.iloc[train_index, 1:-1]\n",
    "        test_X = df.iloc[test_index, 1:-1]\n",
    "        train_y = df.iloc[train_index, -1]\n",
    "        test_y = df.iloc[test_index, -1]\n",
    "\n",
    "        model3 = linear_model.Ridge(alpha=a_para)\n",
    "        model3.fit(train_X, train_y)\n",
    "        predict3 = model3.predict(test_X)\n",
    "        mae_list.append(mean_absolute_error(test_y,predict3))\n",
    "\n",
    "    mean_mae_list.append(np.mean(mae_list))"
   ]
  },
  {
   "cell_type": "code",
   "execution_count": 97,
   "metadata": {},
   "outputs": [
    {
     "data": {
      "image/png": "[encoded data removed]",
      "text/plain": [
       "<Figure size 360x360 with 1 Axes>"
      ]
     },
     "metadata": {
      "needs_background": "light"
     },
     "output_type": "display_data"
    }
   ],
   "source": [
    "plt.figure(figsize=(5,5))\n",
    "plt.plot(range(1,11),mean_mae_list, label='mean absolute error')\n",
    "plt.legend()\n",
    "plt.savefig('F:/ingv/f2.jpg',dpi = 100)"
   ]
  },
  {
   "cell_type": "code",
   "execution_count": 16,
   "metadata": {},
   "outputs": [],
   "source": [
    "mean_mae_list = []\n",
    "for a_para in np.arange(1,3,0.1):\n",
    "    mae_list=[]\n",
    "    kf = KFold(n_splits=10)\n",
    "\n",
    "    for train_index, test_index in kf.split(df):\n",
    "        train_X = df.iloc[train_index, 1:-1]\n",
    "        test_X = df.iloc[test_index, 1:-1]\n",
    "        train_y = df.iloc[train_index, -1]\n",
    "        test_y = df.iloc[test_index, -1]\n",
    "\n",
    "        model4 = linear_model.Ridge(alpha=a_para)\n",
    "        model4.fit(train_X, train_y)\n",
    "        predict4 = model4.predict(test_X)\n",
    "        mae_list.append(mean_absolute_error(test_y,predict4))\n",
    "\n",
    "    mean_mae_list.append((a_para,np.mean(mae_list)))"
   ]
  },
  {
   "cell_type": "code",
   "execution_count": 20,
   "metadata": {},
   "outputs": [
    {
     "name": "stdout",
     "output_type": "stream",
     "text": [
      "The optimal alpha: 1.9000000000000008 MAE: 10073288.066281283\n"
     ]
    }
   ],
   "source": [
    "first_alpha = sorted(mean_mae_list, key = lambda x:x[1])[0]\n",
    "print('The optimal alpha:',first_alpha[0],'MAE:',first_alpha[1])"
   ]
  },
  {
   "cell_type": "code",
   "execution_count": 92,
   "metadata": {},
   "outputs": [],
   "source": [
    "# lasso regression\n",
    "warnings.filterwarnings('ignore')\n",
    "mean_mae_list = []\n",
    "for a_para in range(1,12001,100):\n",
    "    mae_list=[]\n",
    "    kf = KFold(n_splits=10)\n",
    "\n",
    "    for train_index, test_index in kf.split(df):\n",
    "        train_X = df.iloc[train_index, 1:-1]\n",
    "        test_X = df.iloc[test_index, 1:-1]\n",
    "        train_y = df.iloc[train_index, -1]\n",
    "        test_y = df.iloc[test_index, -1]\n",
    "\n",
    "        model5 = linear_model.Lasso(alpha=a_para)\n",
    "        model5.fit(train_X, train_y)\n",
    "        predict5 = model5.predict(test_X)\n",
    "        mae_list.append(mean_absolute_error(test_y,predict5))\n",
    "\n",
    "    mean_mae_list.append(np.mean(mae_list))\n",
    "    \n",
    "warnings.filterwarnings('default')"
   ]
  },
  {
   "cell_type": "code",
   "execution_count": 95,
   "metadata": {},
   "outputs": [
    {
     "data": {
      "image/png": "[encoded data removed]",
      "text/plain": [
       "<Figure size 360x360 with 1 Axes>"
      ]
     },
     "metadata": {
      "needs_background": "light"
     },
     "output_type": "display_data"
    }
   ],
   "source": [
    "plt.figure(figsize=(5,5))\n",
    "plt.plot(range(1,12001,100), mean_mae_list, label='mean absolute error')\n",
    "plt.legend()\n",
    "plt.savefig('F:/ingv/f3.jpg',dpi = 100)"
   ]
  },
  {
   "cell_type": "code",
   "execution_count": 83,
   "metadata": {},
   "outputs": [],
   "source": [
    "warnings.filterwarnings('ignore')\n",
    "mean_mae_list = []\n",
    "for a_para in range(9850,9871,1):\n",
    "    mae_list=[]\n",
    "    kf = KFold(n_splits=10)\n",
    "\n",
    "    for train_index, test_index in kf.split(df):\n",
    "        train_X = df.iloc[train_index, 1:-1]\n",
    "        test_X = df.iloc[test_index, 1:-1]\n",
    "        train_y = df.iloc[train_index, -1]\n",
    "        test_y = df.iloc[test_index, -1]\n",
    "\n",
    "        model6 = linear_model.Lasso(alpha=a_para)\n",
    "        model6.fit(train_X, train_y)\n",
    "        predict6 = model6.predict(test_X)\n",
    "        mae_list.append(mean_absolute_error(test_y,predict6))\n",
    "\n",
    "    mean_mae_list.append((a_para,np.mean(mae_list)))\n",
    "    \n",
    "warnings.filterwarnings('default')"
   ]
  },
  {
   "cell_type": "code",
   "execution_count": 84,
   "metadata": {},
   "outputs": [
    {
     "name": "stdout",
     "output_type": "stream",
     "text": [
      "The optimal alpha: 9868 MAE: 9984086.474992331\n"
     ]
    }
   ],
   "source": [
    "first_alpha = sorted(mean_mae_list, key = lambda x:x[1])[0]\n",
    "print('The optimal alpha:',first_alpha[0],'MAE:',first_alpha[1])"
   ]
  },
  {
   "cell_type": "code",
   "execution_count": 4,
   "metadata": {},
   "outputs": [],
   "source": [
    "data=df.iloc[:,1:-1]\n",
    "label=df.iloc[:,-1]\n",
    "\n",
    "train_X,test_X,train_y,test_y = train_test_split(data,label,test_size=0.3, random_state=714)\n",
    "train_X = np.array(train_X)\n",
    "test_X = np.array(test_X)"
   ]
  },
  {
   "cell_type": "code",
   "execution_count": 5,
   "metadata": {},
   "outputs": [],
   "source": [
    "# XGBoost\n",
    "model7=xgb.XGBRegressor()\n",
    "model7.fit(train_X, train_y)\n",
    "predict7 = model7.predict(test_X)"
   ]
  },
  {
   "cell_type": "code",
   "execution_count": 8,
   "metadata": {},
   "outputs": [
    {
     "data": {
      "text/plain": [
       "4120630.786642387"
      ]
     },
     "execution_count": 8,
     "metadata": {},
     "output_type": "execute_result"
    }
   ],
   "source": [
    "mean_absolute_error(test_y,predict7)"
   ]
  },
  {
   "cell_type": "code",
   "execution_count": 9,
   "metadata": {},
   "outputs": [],
   "source": [
    "mae_list=[]\n",
    "kf = KFold(n_splits=10)\n",
    "\n",
    "for train_index, test_index in kf.split(df):\n",
    "    train_X = np.array(df.iloc[train_index, 1:-1])\n",
    "    test_X = np.array(df.iloc[test_index, 1:-1])\n",
    "    train_y = df.iloc[train_index, -1]\n",
    "    test_y = df.iloc[test_index, -1]\n",
    "    \n",
    "    model8 = xgb.XGBRegressor()\n",
    "    model8.fit(train_X, train_y)\n",
    "    predict8 = model8.predict(test_X)\n",
    "    mae_list.append(mean_absolute_error(test_y,predict8))"
   ]
  },
  {
   "cell_type": "code",
   "execution_count": 10,
   "metadata": {},
   "outputs": [
    {
     "data": {
      "text/plain": [
       "3744773.753283862"
      ]
     },
     "execution_count": 10,
     "metadata": {},
     "output_type": "execute_result"
    }
   ],
   "source": [
    "np.mean(mae_list)"
   ]
  },
  {
   "cell_type": "code",
   "execution_count": 10,
   "metadata": {},
   "outputs": [],
   "source": [
    "#PCA and scale\n",
    "\n",
    "# pca = PCA(n_components='mle')\n",
    "# dr_data = pca.fit_transform(np.array(df.iloc[:,1:-1]))\n",
    "\n",
    "min_max_scaler = preprocessing.MinMaxScaler()\n",
    "dr_data = min_max_scaler.fit_transform(np.array(df.iloc[:,1:-1]))"
   ]
  },
  {
   "cell_type": "code",
   "execution_count": 11,
   "metadata": {},
   "outputs": [
    {
     "data": {
      "text/plain": [
       "(4430, 100)"
      ]
     },
     "execution_count": 11,
     "metadata": {},
     "output_type": "execute_result"
    }
   ],
   "source": [
    "dr_data.shape"
   ]
  },
  {
   "cell_type": "code",
   "execution_count": 12,
   "metadata": {},
   "outputs": [],
   "source": [
    "# linear regression\n",
    "mae_list=[]\n",
    "kf = KFold(n_splits=10)\n",
    "\n",
    "for train_index, test_index in kf.split(dr_data):\n",
    "    train_X = dr_data[train_index, :]\n",
    "    test_X = dr_data[test_index, :]\n",
    "    train_y = df.iloc[train_index, -1]\n",
    "    test_y = df.iloc[test_index, -1]\n",
    "    \n",
    "    model9 = linear_model.LinearRegression()\n",
    "    model9.fit(train_X, train_y)\n",
    "    predict9 = model9.predict(test_X)\n",
    "    mae_list.append(mean_absolute_error(test_y,predict9))"
   ]
  },
  {
   "cell_type": "code",
   "execution_count": 13,
   "metadata": {},
   "outputs": [
    {
     "data": {
      "text/plain": [
       "10110713.2915267"
      ]
     },
     "execution_count": 13,
     "metadata": {},
     "output_type": "execute_result"
    }
   ],
   "source": [
    "np.mean(mae_list)"
   ]
  },
  {
   "cell_type": "code",
   "execution_count": 14,
   "metadata": {},
   "outputs": [],
   "source": [
    "# Ridge regression\n",
    "mean_mae_list = []\n",
    "for a_para in np.arange(1,10,0.1):\n",
    "    mae_list=[]\n",
    "    kf = KFold(n_splits=10)\n",
    "\n",
    "    for train_index, test_index in kf.split(dr_data):\n",
    "        train_X = dr_data[train_index, :]\n",
    "        test_X = dr_data[test_index, :]\n",
    "        train_y = df.iloc[train_index, -1]\n",
    "        test_y = df.iloc[test_index, -1]\n",
    "\n",
    "        model10 = linear_model.Ridge(alpha=a_para)\n",
    "        model10.fit(train_X, train_y)\n",
    "        predict10 = model10.predict(test_X)\n",
    "        mae_list.append(mean_absolute_error(test_y,predict10))\n",
    "\n",
    "    mean_mae_list.append((a_para,np.mean(mae_list)))"
   ]
  },
  {
   "cell_type": "code",
   "execution_count": 15,
   "metadata": {},
   "outputs": [
    {
     "name": "stdout",
     "output_type": "stream",
     "text": [
      "The optimal alpha: 2.7000000000000015 MAE: 9828569.177084874\n"
     ]
    }
   ],
   "source": [
    "first_alpha = sorted(mean_mae_list, key = lambda x:x[1])[0]\n",
    "print('The optimal alpha:',first_alpha[0],'MAE:',first_alpha[1])"
   ]
  },
  {
   "cell_type": "code",
   "execution_count": 20,
   "metadata": {},
   "outputs": [],
   "source": [
    "# Lasso regression\n",
    "warnings.filterwarnings('ignore')\n",
    "mean_mae_list = []\n",
    "for a_para in range(5150,5170,1):\n",
    "    mae_list=[]\n",
    "    kf = KFold(n_splits=10)\n",
    "\n",
    "    for train_index, test_index in kf.split(df):\n",
    "        train_X = dr_data[train_index, :]\n",
    "        test_X = dr_data[test_index, :]\n",
    "        train_y = df.iloc[train_index, -1]\n",
    "        test_y = df.iloc[test_index, -1]\n",
    "\n",
    "        model11 = linear_model.Lasso(alpha=a_para)\n",
    "        model11.fit(train_X, train_y)\n",
    "        predict11 = model11.predict(test_X)\n",
    "        mae_list.append(mean_absolute_error(test_y,predict11))\n",
    "\n",
    "    mean_mae_list.append((a_para,np.mean(mae_list)))\n",
    "    \n",
    "warnings.filterwarnings('default')"
   ]
  },
  {
   "cell_type": "code",
   "execution_count": 21,
   "metadata": {},
   "outputs": [
    {
     "name": "stdout",
     "output_type": "stream",
     "text": [
      "The optimal alpha: 5163 MAE: 9812649.159830272\n"
     ]
    }
   ],
   "source": [
    "first_alpha = sorted(mean_mae_list, key = lambda x:x[1])[0]\n",
    "print('The optimal alpha:',first_alpha[0],'MAE:',first_alpha[1])"
   ]
  },
  {
   "cell_type": "code",
   "execution_count": 22,
   "metadata": {},
   "outputs": [],
   "source": [
    "# XGBoost\n",
    "mae_list=[]\n",
    "kf = KFold(n_splits=10)\n",
    "\n",
    "for train_index, test_index in kf.split(df):\n",
    "    train_X = dr_data[train_index, :]\n",
    "    test_X = dr_data[test_index, :]\n",
    "    train_y = df.iloc[train_index, -1]\n",
    "    test_y = df.iloc[test_index, -1]\n",
    "    \n",
    "    model12 = xgb.XGBRegressor()\n",
    "    model12.fit(train_X, train_y)\n",
    "    predict12 = model12.predict(test_X)\n",
    "    mae_list.append(mean_absolute_error(test_y,predict12))"
   ]
  },
  {
   "cell_type": "code",
   "execution_count": 23,
   "metadata": {},
   "outputs": [
    {
     "data": {
      "text/plain": [
       "3843430.616302201"
      ]
     },
     "execution_count": 23,
     "metadata": {},
     "output_type": "execute_result"
    }
   ],
   "source": [
    "np.mean(mae_list)"
   ]
  },
  {
   "cell_type": "code",
   "execution_count": null,
   "metadata": {},
   "outputs": [],
   "source": []
  }
 ],
 "metadata": {
  "kernelspec": {
   "display_name": "Python 3",
   "language": "python",
   "name": "python3"
  },
  "language_info": {
   "codemirror_mode": {
    "name": "ipython",
    "version": 3
   },
   "file_extension": ".py",
   "mimetype": "text/x-python",
   "name": "python",
   "nbconvert_exporter": "python",
   "pygments_lexer": "ipython3",
   "version": "3.8.3"
  }
 },
 "nbformat": 4,
 "nbformat_minor": 4
}
